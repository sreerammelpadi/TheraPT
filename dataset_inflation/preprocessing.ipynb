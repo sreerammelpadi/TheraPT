{
 "cells": [
  {
   "cell_type": "code",
   "execution_count": 44,
   "metadata": {},
   "outputs": [
    {
     "name": "stdout",
     "output_type": "stream",
     "text": [
      "                                       conversations          id\n",
      "0  [{'from': 'human', 'value': \"I've been feeling...  identity_0\n",
      "1  [{'from': 'human', 'value': \"Hi, I'm feeling r...  identity_1\n",
      "2  [{'from': 'human', 'value': \"Hey, I hope you'r...  identity_2\n",
      "3  [{'from': 'human', 'value': \"I'm feeling reall...  identity_3\n",
      "4  [{'from': 'human', 'value': \"I'm feeling reall...  identity_4\n"
     ]
    }
   ],
   "source": [
    "import pandas as pd\n",
    "import json\n",
    "import re\n",
    "\n",
    "# Load your dataset\n",
    "df = pd.read_csv(\"train.csv\")\n",
    "\n",
    "print(df.head())"
   ]
  },
  {
   "cell_type": "code",
   "execution_count": 45,
   "metadata": {},
   "outputs": [
    {
     "name": "stdout",
     "output_type": "stream",
     "text": [
      "{'conversations': {0: '[{\\'from\\': \\'human\\', \\'value\\': \"I\\'ve been feeling so sad and overwhelmed lately. Work has become such a massive source of stress for me.\"}\\n {\\'from\\': \\'gpt\\', \\'value\\': \"Hey there, I\\'m here to listen and support you. It sounds like work has been really challenging lately. Can you tell me more about what\\'s been going on?\"}\\n {\\'from\\': \\'human\\', \\'value\\': \"I recently got a promotion at work, which I thought would be exciting. But the added responsibilities and pressure have just taken a toll on my mental health. It\\'s been a really moving experience for me.\"}\\n {\\'from\\': \\'gpt\\', \\'value\\': \"I can understand how it can be overwhelming when we\\'re faced with higher expectations. It\\'s okay to acknowledge your emotions and allow yourself to feel sad in this situation. It\\'s an important part of the healing process. What specific challenges have you been facing at work?\"}\\n {\\'from\\': \\'human\\', \\'value\\': \"Well, the workload has increased significantly, and I find it hard to maintain a work-life balance. I\\'ve been staying late at the office, and it feels like I\\'m constantly under a pile of never-ending tasks. It\\'s just so hard to keep up, and it\\'s impacting my overall well-being.\"}\\n {\\'from\\': \\'gpt\\', \\'value\\': \"It sounds like you\\'re dealing with a lot of pressure to perform and succeed. Remember, it\\'s crucial to take care of yourself, both mentally and physically. A healthy work-life balance is essential. Have you tried any strategies to cope with the added workload?\"}\\n {\\'from\\': \\'human\\', \\'value\\': \"I\\'ve been trying to prioritize my tasks and delegate whenever possible. I\\'ve also started practicing meditation during my breaks to help manage stress. But sometimes, it feels like no matter what I do, I can\\'t catch a break. It\\'s been a constant struggle.\"}\\n {\\'from\\': \\'gpt\\', \\'value\\': \"It\\'s great to hear that you\\'re already implementing some helpful strategies. Remember, progress takes time, and it\\'s okay to have setbacks. In addition to what you\\'re already doing, I encourage you to also communicate with your supervisor or team about your workload and discuss possible solutions together.\"}\\n {\\'from\\': \\'human\\', \\'value\\': \"You\\'re right. I haven\\'t really opened up about my struggles to my coworkers or supervisor. I guess I\\'ve been afraid of appearing weak or incapable. How can I approach this discussion without feeling vulnerable?\"}\\n {\\'from\\': \\'gpt\\', \\'value\\': \"It\\'s completely normal to feel that way, but remember, asking for support is a strength, not a weakness. Start by scheduling a conversation with your supervisor or a trusted colleague in a private and comfortable setting. Be honest about your challenges and express your willingness to find solutions together. Remember, you\\'re not alone in this.\"}\\n {\\'from\\': \\'human\\', \\'value\\': \"Thank you for your understanding and guidance. I appreciate the reminder that I don\\'t have to face this alone. I\\'ll gather my courage and initiate that conversation soon. I need to prioritize my well-being and find a healthier balance.\"}\\n {\\'from\\': \\'gpt\\', \\'value\\': \"You\\'re very welcome! I\\'m here to support you every step of the way. Taking care of yourself should always be a priority. Remember to be kind to yourself and celebrate your progress, no matter how small it may seem. You\\'ve got this!\"}]', 1: '[{\\'from\\': \\'human\\', \\'value\\': \"Hi, I\\'m feeling really scared about something and I need some advice. It\\'s about friendship.\"}\\n {\\'from\\': \\'gpt\\', \\'value\\': \"Hello there! I\\'m here to listen and offer support. Tell me more about what\\'s going on with your friendship. What specifically is making you feel scared?\"}\\n {\\'from\\': \\'human\\', \\'value\\': \"Well, lately, I\\'ve been feeling like my friends don\\'t value me as much as I value them. It\\'s like I\\'m always the one reaching out and making plans, but they never initiate anything. It\\'s making me doubt if our friendship is genuine.\"}\\n {\\'from\\': \\'gpt\\', \\'value\\': \"I understand how disheartening that can be. It\\'s important to feel valued and appreciated in any relationship. Have you talked to your friends about how you\\'re feeling?\"}\\n {\\'from\\': \\'human\\', \\'value\\': \"No, I haven\\'t. I\\'m afraid that they\\'ll think I\\'m being needy or that they\\'ll get defensive. I don\\'t want to ruin our friendship by bringing it up.\"}\\n {\\'from\\': \\'gpt\\', \\'value\\': \"It\\'s normal to feel hesitant about having difficult conversations, but addressing your concerns is a crucial step towards building stronger connections. Before jumping to conclusions, it\\'s important to communicate openly and honestly. You deserve to express your feelings.\"}\\n {\\'from\\': \\'human\\', \\'value\\': \"You\\'re right, I should talk to them. But how do I approach the conversation without sounding accusatory or angry?\"}\\n {\\'from\\': \\'gpt\\', \\'value\\': \\'That\\\\\\'s a great question! It can be helpful to use \"I\" statements to express how you feel, rather than placing blame on others. For example, you can say, \"I\\\\\\'ve been feeling a bit overlooked lately, and I wanted to talk about our friendship to ensure we\\\\\\'re on the same page.\"\\'}\\n {\\'from\\': \\'human\\', \\'value\\': \"I see, so it\\'s important to frame it as a dialogue rather than confrontational. That makes sense.\"}\\n {\\'from\\': \\'gpt\\', \\'value\\': \\'Absolutely! Opening up a conversation can lead to better understanding and growth. Remember, your feelings are valid, and a healthy friendship should provide a safe space to express them. If your friends truly care about you, they will listen and try to understand your perspective.\\'}\\n {\\'from\\': \\'human\\', \\'value\\': \"It\\'s reassuring to hear that. I\\'ll try to gather the courage to talk to them. But what if they don\\'t respond well? What if they dismiss my concerns?\"}\\n {\\'from\\': \\'gpt\\', \\'value\\': \"It\\'s natural to worry about how others might react, but remember, you cannot control their responses. What you can control is how you handle the situation. If they dismiss your concerns, it might be an indication that they are not as invested in the friendship as you would like. In that case, it\\'s essential to focus on surrounding yourself with people who appreciate and support you.\"}\\n {\\'from\\': \\'human\\', \\'value\\': \"That\\'s true. I shouldn\\'t hold onto toxic relationships. It\\'s just hard to let go sometimes, you know?\"}\\n {\\'from\\': \\'gpt\\', \\'value\\': \"Letting go can be challenging, especially when we have invested time and energy into a friendship. It\\'s essential to prioritize your well-being and surround yourself with those who uplift you. Remember, you deserve friendships that nourish your self-esteem and bring positivity into your life.\"}\\n {\\'from\\': \\'human\\', \\'value\\': \\'Thank you for reminding me of my worth. I appreciate your advice and support.\\'}\\n {\\'from\\': \\'gpt\\', \\'value\\': \"You\\'re very welcome! Building healthy friendships is a journey, and you have taken the first step by recognizing the need for change. Remember to be gentle with yourself as you navigate through this process. You\\'re doing great!\"}\\n {\\'from\\': \\'human\\', \\'value\\': \\'I will, thank you. I feel much better after talking to you.\\'}\\n {\\'from\\': \\'gpt\\', \\'value\\': \"I\\'m glad to hear that. Remember, I\\'m here for you whenever you need someone to talk to. Don\\'t hesitate to reach out. You\\'ve got this!\"}]', 2: '[{\\'from\\': \\'human\\', \\'value\\': \"Hey, I hope you\\'re doing well. I wanted to talk about something that has been on my mind lately. I\\'ve been feeling really surprised by my emotional state and it\\'s starting to affect my overall health.\"}\\n {\\'from\\': \\'gpt\\', \\'value\\': \"Hello there, I\\'m here to listen and support you through this. Can you tell me more about what has been surprising you emotionally and how it\\'s impacting your health?\"}\\n {\\'from\\': \\'human\\', \\'value\\': \"I\\'ve been dealing with a lot of sadness and hopelessness. It just came out of nowhere, and I can\\'t seem to shake it off. It\\'s making me feel physically exhausted and it\\'s difficult to concentrate on everyday tasks.\"}\\n {\\'from\\': \\'gpt\\', \\'value\\': \\'I understand how disconcerting it can be when emotions catch us by surprise. It sounds like the sudden onset of sadness and hopelessness is taking a toll on your overall well-being. Have there been any major life events or changes recently that could have contributed to these feelings?\\'}\\n {\\'from\\': \\'human\\', \\'value\\': \"Well, I did recently go through a breakup, but I thought I had moved on. I didn\\'t expect it to affect me this much. Additionally, my workload at the office has increased, which is adding to my stress.\"}\\n {\\'from\\': \\'gpt\\', \\'value\\': \"Breakups can often lead to a wide range of emotions and it\\'s normal for them to resurface unexpectedly. It seems like this breakup, coupled with increased work stress, might be factors contributing to your current emotional state. How have you been coping with these challenges so far?\"}\\n {\\'from\\': \\'human\\', \\'value\\': \"I\\'ve been trying to distract myself by keeping busy, but it only provides temporary relief. I\\'ve also been talking to friends, but I feel like a burden sometimes. It\\'s as if they don\\'t really understand what I\\'m going through.\"}\\n {\\'from\\': \\'gpt\\', \\'value\\': \"It\\'s important to have support from friends, but it can be disheartening when they don\\'t fully comprehend what you\\'re experiencing. Remember, you don\\'t have to face this alone. Therapy can provide a safe space to explore and understand your emotions without feeling like a burden. Have you considered seeking professional help before?\"}\\n {\\'from\\': \\'human\\', \\'value\\': \"Honestly, therapy has always intimidated me. I was afraid of being judged or misunderstood. But now, I\\'m realizing that I need someone who can guide me through this.\"}\\n {\\'from\\': \\'gpt\\', \\'value\\': \"It\\'s completely understandable to have reservations about therapy. However, I want to assure you that my role as a therapist is not to judge, but rather to provide a supportive and non-judgmental environment where you can freely express yourself. Together, we can work towards understanding and addressing the underlying issues contributing to your depression. Are you open to exploring therapy as a potential avenue for healing and growth?\"}\\n {\\'from\\': \\'human\\', \\'value\\': \\'Yes, I am. I want to feel better and gain a better understanding of myself. How do we start?\\'}\\n {\\'from\\': \\'gpt\\', \\'value\\': \"That\\'s wonderful to hear! We\\'ll start by setting goals for therapy and creating a safe space for open dialogue. We\\'ll explore your past experiences, relationships, and current circumstances to gain insight into the root causes of your depression. Throughout this process, I\\'ll ask questions to help you reflect and find new perspectives. Additionally, I will provide guidance and support as we work towards your desired outcomes. Is that something you feel comfortable with?\"}\\n {\\'from\\': \\'human\\', \\'value\\': \"Yes, I\\'m ready to begin this journey of self-exploration and healing. Thank you for being so understanding and supportive. I\\'m looking forward to our sessions.\"}\\n {\\'from\\': \\'gpt\\', \\'value\\': \"You\\'re very welcome! Thank you for putting your trust in me. Remember, progress takes time, so let\\'s be patient and kind with ourselves throughout this process. I\\'m here for you every step of the way. Together, we can make meaningful strides towards a healthier and happier you.\"}]', 3: '[{\\'from\\': \\'human\\', \\'value\\': \"I\\'m feeling really overwhelmed, and I don\\'t know what to do about it. It\\'s just that everything seems so heavy and hopeless right now, you know? And I can\\'t quite put my finger on why I\\'m feeling this way. Maybe it has something to do with my relationship with my mom.\"}\\n {\\'from\\': \\'gpt\\', \\'value\\': \"I hear you, and it sounds like you\\'re carrying a heavy burden right now. Feeling overwhelmed is a common symptom of depression, and it can make everything seem bleak. It\\'s understandable that you\\'re struggling to identify the exact cause of these emotions. Can you tell me more about your relationship with your mom?\"}]', 4: '[{\\'from\\': \\'human\\', \\'value\\': \"I\\'m feeling really upset and confused about my identity.\"}\\n {\\'from\\': \\'gpt\\', \\'value\\': \"I hear your concerns, and I\\'m here to help. Could you tell me a bit more about what\\'s been going on that\\'s making you feel this way?\"}\\n {\\'from\\': \\'human\\', \\'value\\': \"Well, I\\'ve been struggling with addiction for a while now, and it\\'s starting to take a toll on how I see myself. I feel like my addiction has become a part of my identity, and it\\'s hard to imagine who I am without it.\"}\\n {\\'from\\': \\'gpt\\', \\'value\\': \"Addiction can certainly have a significant impact on how we perceive ourselves, but I want you to know that you are not defined by your addiction. It\\'s only one part of your journey. Have you been able to identify any specific triggers or underlying reasons for your addiction?\"}\\n {\\'from\\': \\'human\\', \\'value\\': \\'I think stress and anxiety play a big role in why I turned to addiction in the first place. It became a way for me to escape from those overwhelming emotions.\\'}\\n {\\'from\\': \\'gpt\\', \\'value\\': \"That\\'s a crucial insight. Recognizing the link between stress, anxiety, and your addiction is a major step towards finding healthier coping mechanisms. Have you explored any alternative ways to manage stress and anxiety?\"}\\n {\\'from\\': \\'human\\', \\'value\\': \"I\\'ve tried a few things like meditation and exercise, but they haven\\'t been as effective as I had hoped. It\\'s tempting to go back to my addiction because it temporarily numbs those feelings.\"}\\n {\\'from\\': \\'gpt\\', \\'value\\': \"I appreciate your honesty. It\\'s essential to acknowledge that finding alternative coping mechanisms takes time and effort. We need to identify what works best for you. Have you considered seeking support from addiction recovery groups or counseling?\"}\\n {\\'from\\': \\'human\\', \\'value\\': \"I haven\\'t thought about that before. Do you think it could help?\"}\\n {\\'from\\': \\'gpt\\', \\'value\\': \"Absolutely! Joining a support group or seeking counseling can provide you with a safe space to share your experiences with others who can relate to what you\\'re going through. They can offer guidance and encouragement as you navigate your way to recovery. It\\'s an opportunity to connect with people who understand and have successfully managed their addiction.\"}\\n {\\'from\\': \\'human\\', \\'value\\': \"That sounds comforting. I\\'ve always felt a bit isolated, thinking that no one would understand what I\\'m going through. Is it okay to reach out for help?\"}\\n {\\'from\\': \\'gpt\\', \\'value\\': \"It\\'s more than okay; it\\'s commendable. Asking for help takes tremendous strength and courage. Remember, you\\'re not alone in this journey. Many people have successfully recovered from addiction and rebuilt their lives. It\\'s crucial to have a support system that can guide you along the way, whether it\\'s friends, family, or professionals who specialize in addiction recovery.\"}\\n {\\'from\\': \\'human\\', \\'value\\': \"Thank you for your reassurance. I will definitely look into finding a support group or counselor. But I\\'m worried about relapsing and losing all the progress I\\'ve made. How can I stay strong during the recovery process?\"}\\n {\\'from\\': \\'gpt\\', \\'value\\': \"Relapse is a common concern for anyone going through recovery. It\\'s essential to remember that setbacks can happen, but they don\\'t define your progress. Developing a relapse prevention plan with the guidance of a counselor can help you anticipate triggers and develop strategies to overcome cravings. Building a support system can also provide accountability and encouragement during challenging times.\"}\\n {\\'from\\': \\'human\\', \\'value\\': \"That makes sense. I\\'ll do my best to stay committed to my recovery and reach out for help when needed. Thank you for your guidance and support.\"}\\n {\\'from\\': \\'gpt\\', \\'value\\': \"You\\'re most welcome. Remember, recovery is a journey, and it won\\'t always be easy. But with perseverance and the right support, you can regain control of your life and rediscover your true identity, beyond addiction. I believe in you, and I\\'ll be here every step of the way.\"}\\n {\\'from\\': \\'human\\', \\'value\\': \"Thank you, I needed to hear that. I\\'m grateful to have someone like you in my corner. I\\'m feeling hopeful and ready to take those steps towards a better future.\"}\\n {\\'from\\': \\'gpt\\', \\'value\\': \"I\\'m glad to hear that. Remember, you have inherent worth and strength within you. Embrace your journey, and know that true healing and transformation are possible. I\\'m here whenever you need to talk. Take care, and stay strong.\"}]'}, 'id': {0: 'identity_0', 1: 'identity_1', 2: 'identity_2', 3: 'identity_3', 4: 'identity_4'}}\n"
     ]
    }
   ],
   "source": [
    "# print(df.head().to_dict())"
   ]
  },
  {
   "cell_type": "code",
   "execution_count": 46,
   "metadata": {},
   "outputs": [],
   "source": [
    "import ast"
   ]
  },
  {
   "cell_type": "code",
   "execution_count": 47,
   "metadata": {},
   "outputs": [],
   "source": [
    "def parse_conversation_flexible(conv_str):\n",
    "    try:\n",
    "        conv_str_fixed = re.sub(r\"}\\s*{\", \"}, {\", conv_str)  # Fix missing commas between dicts\n",
    "        return ast.literal_eval(conv_str_fixed)  # Parse to list\n",
    "    except:\n",
    "        return []\n",
    "\n",
    "df[\"parsed_conversations\"] = df[\"conversations\"].apply(parse_conversation_flexible)"
   ]
  },
  {
   "cell_type": "code",
   "execution_count": 48,
   "metadata": {},
   "outputs": [],
   "source": [
    "# Step 2: Extract patient-therapist pairs\n",
    "def extract_grouped_dialogue(conversation, identity):\n",
    "    dialogue_pairs = []\n",
    "    for i in range(len(conversation) - 1):\n",
    "        if conversation[i]['from'] == 'human' and conversation[i+1]['from'] == 'gpt':\n",
    "            pair = {\n",
    "                \"patient\": conversation[i]['value'],\n",
    "                \"therapist\": conversation[i+1]['value']\n",
    "            }\n",
    "            dialogue_pairs.append(pair)\n",
    "    return {\n",
    "        \"identity\": identity,\n",
    "        \"dialogue\": dialogue_pairs\n",
    "    }"
   ]
  },
  {
   "cell_type": "code",
   "execution_count": 49,
   "metadata": {},
   "outputs": [],
   "source": [
    "grouped_conversations = []\n",
    "for idx, row in df.iterrows():\n",
    "    parsed = row[\"parsed_conversations\"]\n",
    "    identity = row[\"id\"]\n",
    "    grouped_convo = extract_grouped_dialogue(parsed, identity)\n",
    "    grouped_conversations.append(grouped_convo)"
   ]
  },
  {
   "cell_type": "code",
   "execution_count": 28,
   "metadata": {},
   "outputs": [],
   "source": [
    "# Extract grouped dialogue format\n",
    "def extract_grouped_dialogue(conversation, identity):\n",
    "    dialogue_pairs = []\n",
    "    for i in range(len(conversation) - 1):\n",
    "        if conversation[i]['from'] == 'human' and conversation[i+1]['from'] == 'gpt':\n",
    "            pair = {\n",
    "                \"patient\": conversation[i]['value'],\n",
    "                \"therapist\": conversation[i+1]['value']\n",
    "            }\n",
    "            dialogue_pairs.append(pair)\n",
    "    return {\n",
    "        \"identity\": identity,\n",
    "        \"dialogue\": dialogue_pairs\n",
    "    }"
   ]
  },
  {
   "cell_type": "code",
   "execution_count": 29,
   "metadata": {},
   "outputs": [],
   "source": [
    "# Apply to full dataframe\n",
    "grouped_conversations = []\n",
    "for idx, row in df.iterrows():\n",
    "    grouped_convo = extract_grouped_dialogue(row[\"parsed_conversations\"], row[\"id\"])\n",
    "    grouped_conversations.append(grouped_convo)"
   ]
  },
  {
   "cell_type": "code",
   "execution_count": 30,
   "metadata": {},
   "outputs": [
    {
     "data": {
      "text/plain": [
       "[{'identity': 'identity_0', 'dialogue': []}]"
      ]
     },
     "execution_count": 30,
     "metadata": {},
     "output_type": "execute_result"
    }
   ],
   "source": [
    "grouped_conversations[:1]"
   ]
  },
  {
   "cell_type": "code",
   "execution_count": 50,
   "metadata": {},
   "outputs": [
    {
     "name": "stdout",
     "output_type": "stream",
     "text": [
      "{\n",
      "  \"identity\": \"identity_0\",\n",
      "  \"dialogue\": [\n",
      "    {\n",
      "      \"patient\": \"I've been feeling so sad and overwhelmed lately. Work has become such a massive source of stress for me.\",\n",
      "      \"therapist\": \"Hey there, I'm here to listen and support you. It sounds like work has been really challenging lately. Can you tell me more about what's been going on?\"\n",
      "    },\n",
      "    {\n",
      "      \"patient\": \"I recently got a promotion at work, which I thought would be exciting. But the added responsibilities and pressure have just taken a toll on my mental health. It's been a really moving experience for me.\",\n",
      "      \"therapist\": \"I can understand how it can be overwhelming when we're faced with higher expectations. It's okay to acknowledge your emotions and allow yourself to feel sad in this situation. It's an important part of the healing process. What specific challenges have you been facing at work?\"\n",
      "    },\n",
      "    {\n",
      "      \"patient\": \"Well, the workload has increased significantly, and I find it hard to maintain a work-life balance. I've been staying late at the office, and it feels like I'm constantly under a pile of never-ending tasks. It's just so hard to keep up, and it's impacting my overall well-being.\",\n",
      "      \"therapist\": \"It sounds like you're dealing with a lot of pressure to perform and succeed. Remember, it's crucial to take care of yourself, both mentally and physically. A healthy work-life balance is essential. Have you tried any strategies to cope with the added workload?\"\n",
      "    },\n",
      "    {\n",
      "      \"patient\": \"I've been trying to prioritize my tasks and delegate whenever possible. I've also started practicing meditation during my breaks to help manage stress. But sometimes, it feels like no matter what I do, I can't catch a break. It's been a constant struggle.\",\n",
      "      \"therapist\": \"It's great to hear that you're already implementing some helpful strategies. Remember, progress takes time, and it's okay to have setbacks. In addition to what you're already doing, I encourage you to also communicate with your supervisor or team about your workload and discuss possible solutions together.\"\n",
      "    },\n",
      "    {\n",
      "      \"patient\": \"You're right. I haven't really opened up about my struggles to my coworkers or supervisor. I guess I've been afraid of appearing weak or incapable. How can I approach this discussion without feeling vulnerable?\",\n",
      "      \"therapist\": \"It's completely normal to feel that way, but remember, asking for support is a strength, not a weakness. Start by scheduling a conversation with your supervisor or a trusted colleague in a private and comfortable setting. Be honest about your challenges and express your willingness to find solutions together. Remember, you're not alone in this.\"\n",
      "    },\n",
      "    {\n",
      "      \"patient\": \"Thank you for your understanding and guidance. I appreciate the reminder that I don't have to face this alone. I'll gather my courage and initiate that conversation soon. I need to prioritize my well-being and find a healthier balance.\",\n",
      "      \"therapist\": \"You're very welcome! I'm here to support you every step of the way. Taking care of yourself should always be a priority. Remember to be kind to yourself and celebrate your progress, no matter how small it may seem. You've got this!\"\n",
      "    }\n",
      "  ]\n",
      "}\n"
     ]
    }
   ],
   "source": [
    "# Step 4: Preview first result\n",
    "print(json.dumps(grouped_conversations[0], indent=2))"
   ]
  },
  {
   "cell_type": "code",
   "execution_count": 51,
   "metadata": {},
   "outputs": [
    {
     "name": "stdout",
     "output_type": "stream",
     "text": [
      "Saved 99086 conversations to grouped_conversations.jsonl\n"
     ]
    }
   ],
   "source": [
    "import json\n",
    "\n",
    "# File path to save your output\n",
    "output_path = \"grouped_conversations.jsonl\"\n",
    "\n",
    "# Write each conversation as a JSON line\n",
    "with open(output_path, \"w\", encoding=\"utf-8\") as f:\n",
    "    for convo in grouped_conversations:\n",
    "        json.dump(convo, f)\n",
    "        f.write(\"\\n\")\n",
    "\n",
    "print(f\"Saved {len(grouped_conversations)} conversations to {output_path}\")\n"
   ]
  },
  {
   "cell_type": "code",
   "execution_count": 53,
   "metadata": {},
   "outputs": [
    {
     "name": "stdout",
     "output_type": "stream",
     "text": [
      "Collecting openai\n",
      "  Downloading openai-1.76.0-py3-none-any.whl.metadata (25 kB)\n",
      "Requirement already satisfied: anyio<5,>=3.5.0 in /opt/anaconda3/lib/python3.12/site-packages (from openai) (4.2.0)\n",
      "Requirement already satisfied: distro<2,>=1.7.0 in /opt/anaconda3/lib/python3.12/site-packages (from openai) (1.9.0)\n",
      "Requirement already satisfied: httpx<1,>=0.23.0 in /opt/anaconda3/lib/python3.12/site-packages (from openai) (0.27.0)\n",
      "Collecting jiter<1,>=0.4.0 (from openai)\n",
      "  Downloading jiter-0.9.0-cp312-cp312-macosx_11_0_arm64.whl.metadata (5.2 kB)\n",
      "Requirement already satisfied: pydantic<3,>=1.9.0 in /opt/anaconda3/lib/python3.12/site-packages (from openai) (2.8.2)\n",
      "Requirement already satisfied: sniffio in /opt/anaconda3/lib/python3.12/site-packages (from openai) (1.3.0)\n",
      "Requirement already satisfied: tqdm>4 in /opt/anaconda3/lib/python3.12/site-packages (from openai) (4.66.5)\n",
      "Requirement already satisfied: typing-extensions<5,>=4.11 in /opt/anaconda3/lib/python3.12/site-packages (from openai) (4.11.0)\n",
      "Requirement already satisfied: idna>=2.8 in /opt/anaconda3/lib/python3.12/site-packages (from anyio<5,>=3.5.0->openai) (3.7)\n",
      "Requirement already satisfied: certifi in /opt/anaconda3/lib/python3.12/site-packages (from httpx<1,>=0.23.0->openai) (2024.8.30)\n",
      "Requirement already satisfied: httpcore==1.* in /opt/anaconda3/lib/python3.12/site-packages (from httpx<1,>=0.23.0->openai) (1.0.2)\n",
      "Requirement already satisfied: h11<0.15,>=0.13 in /opt/anaconda3/lib/python3.12/site-packages (from httpcore==1.*->httpx<1,>=0.23.0->openai) (0.14.0)\n",
      "Requirement already satisfied: annotated-types>=0.4.0 in /opt/anaconda3/lib/python3.12/site-packages (from pydantic<3,>=1.9.0->openai) (0.6.0)\n",
      "Requirement already satisfied: pydantic-core==2.20.1 in /opt/anaconda3/lib/python3.12/site-packages (from pydantic<3,>=1.9.0->openai) (2.20.1)\n",
      "Downloading openai-1.76.0-py3-none-any.whl (661 kB)\n",
      "\u001b[2K   \u001b[90m━━━━━━━━━━━━━━━━━━━━━━━━━━━━━━━━━━━━━━━━\u001b[0m \u001b[32m661.2/661.2 kB\u001b[0m \u001b[31m15.9 MB/s\u001b[0m eta \u001b[36m0:00:00\u001b[0m\n",
      "\u001b[?25hDownloading jiter-0.9.0-cp312-cp312-macosx_11_0_arm64.whl (319 kB)\n",
      "Installing collected packages: jiter, openai\n",
      "Successfully installed jiter-0.9.0 openai-1.76.0\n",
      "Note: you may need to restart the kernel to use updated packages.\n"
     ]
    }
   ],
   "source": [
    "pip install openai"
   ]
  },
  {
   "cell_type": "code",
   "execution_count": null,
   "metadata": {},
   "outputs": [],
   "source": []
  },
  {
   "cell_type": "code",
   "execution_count": null,
   "metadata": {},
   "outputs": [],
   "source": []
  },
  {
   "cell_type": "code",
   "execution_count": null,
   "metadata": {},
   "outputs": [],
   "source": []
  },
  {
   "cell_type": "code",
   "execution_count": null,
   "metadata": {},
   "outputs": [],
   "source": []
  },
  {
   "cell_type": "code",
   "execution_count": null,
   "metadata": {},
   "outputs": [],
   "source": []
  },
  {
   "cell_type": "code",
   "execution_count": null,
   "metadata": {},
   "outputs": [],
   "source": []
  },
  {
   "cell_type": "code",
   "execution_count": null,
   "metadata": {
    "ExecuteTime": {
     "end_time": "2025-04-25T17:28:39.739678Z",
     "start_time": "2025-04-25T17:28:39.587449Z"
    }
   },
   "outputs": [],
   "source": [
    "import openai\n",
    "import json\n",
    "from openai import OpenAI\n",
    "\n",
    "# Set your OpenAI API key here\n",
    "client = OpenAI(api_key=\"UPDATE YOUR OWN KEY BABE\")\n",
    "\n",
    "# File paths\n",
    "input_file = \"grouped_conversations.jsonl\"\n",
    "output_file = \"grouped_conversations_with_cot_final.jsonl\""
   ]
  },
  {
   "cell_type": "code",
   "execution_count": 9,
   "metadata": {
    "ExecuteTime": {
     "end_time": "2025-04-25T17:28:40.964226Z",
     "start_time": "2025-04-25T17:28:40.952027Z"
    }
   },
   "outputs": [],
   "source": [
    "# prompt template\n",
    "def build_prompt(patient, therapist):\n",
    "#     return f\"\"\"You are a compassionate and emotionally intelligent therapist.\n",
    "\n",
    "# Below is a message from a user and the response given by the therapist.\n",
    "\n",
    "# Your task is to explain the internal thought process the therapist might have gone through before giving the response. The explanation should justify the actual response, not invent a new one.\n",
    "\n",
    "# Be concise (1 sentence), emotionally aware, and consistent with the tone. The thought process must detail on the issues or the query that the user has given, and ‘think’ in a way that leads to the response that is already present.\n",
    "\n",
    "# User: {patient}\n",
    "\n",
    "# Therapist's Response: {therapist}\n",
    "\n",
    "# Therapist’s Thought Process:\"\"\"\n",
    "\n",
    "\n",
    "    return f\"\"\" \n",
    "user: {patient}\n",
    "therapist: {therapist}\n",
    "\n",
    "You are a compassionate and emotionally intelligent therapist assistant. Your task is to analyze the provided user's message(above), think step-by-step about what the therapist should consider before replying after understanding the user's query. The reasoning must comply with the therapist’s response (above). Just give 1-2 sentences for the reasoning, and it must be exactly what the therapist thinks before responding in 1st person voice.\"\"\""
   ]
  },
  {
   "cell_type": "code",
   "execution_count": 12,
   "metadata": {
    "ExecuteTime": {
     "end_time": "2025-04-25T22:57:36.725719Z",
     "start_time": "2025-04-25T17:32:16.681126Z"
    }
   },
   "outputs": [
    {
     "name": "stdout",
     "output_type": "stream",
     "text": [
      "Inflated 0 records: 0.0 %\n",
      "Inflated 50 records: 3.3333333333333335 %\n",
      "Inflated 100 records: 6.666666666666667 %\n",
      "Inflated 150 records: 10.0 %\n",
      "Inflated 200 records: 13.333333333333334 %\n",
      "Inflated 250 records: 16.666666666666668 %\n",
      "Inflated 300 records: 20.0 %\n",
      "Inflated 350 records: 23.333333333333332 %\n",
      "Inflated 400 records: 26.666666666666668 %\n",
      "Inflated 450 records: 30.0 %\n",
      "Inflated 500 records: 33.333333333333336 %\n",
      "Inflated 550 records: 36.666666666666664 %\n",
      "Inflated 600 records: 40.0 %\n",
      "Inflated 650 records: 43.333333333333336 %\n",
      "Inflated 700 records: 46.666666666666664 %\n",
      "Inflated 750 records: 50.0 %\n",
      "Inflated 800 records: 53.333333333333336 %\n",
      "Inflated 850 records: 56.666666666666664 %\n",
      "Inflated 900 records: 60.0 %\n",
      "Inflated 950 records: 63.333333333333336 %\n",
      "Inflated 1000 records: 66.66666666666667 %\n",
      "Inflated 1050 records: 70.0 %\n",
      "Inflated 1100 records: 73.33333333333333 %\n",
      "Inflated 1150 records: 76.66666666666667 %\n",
      "Inflated 1200 records: 80.0 %\n",
      "Inflated 1250 records: 83.33333333333333 %\n",
      "Inflated 1300 records: 86.66666666666667 %\n",
      "Inflated 1350 records: 90.0 %\n",
      "Inflated 1400 records: 93.33333333333333 %\n",
      "Inflated 1450 records: 96.66666666666667 %\n"
     ]
    }
   ],
   "source": [
    "output_data = []\n",
    "\n",
    "# Open input file and process\n",
    "with open(input_file, \"r\", encoding=\"utf-8\") as f:\n",
    "    for idx, line in enumerate(f):\n",
    "        if idx >= 1500:  # just first few conversation for now\n",
    "            break\n",
    "        if idx % 50 == 0:\n",
    "            print(f\"Inflated {idx} records: {idx / 15} %\")\n",
    "        convo = json.loads(line)\n",
    "        identity = convo[\"identity\"]\n",
    "        dialogue = convo[\"dialogue\"]\n",
    "\n",
    "        new_dialogue = []\n",
    "        for turn in dialogue:\n",
    "            patient = turn[\"patient\"]\n",
    "            therapist = turn[\"therapist\"]\n",
    "            prompt = build_prompt(patient, therapist)\n",
    "\n",
    "            try:\n",
    "                response = client.chat.completions.create(\n",
    "                    model=\"gpt-4o-mini\",\n",
    "                    messages=[\n",
    "                        {\"role\": \"user\", \"content\": prompt}\n",
    "                    ],\n",
    "                    temperature=0.5,\n",
    "                    max_tokens=100\n",
    "                )\n",
    "                # print(f\"response: {response}\")\n",
    "                reasoning = response.choices[0].message.content.strip()\n",
    "            except Exception as e:\n",
    "                print(f\"❌ Error for index: {idx},  message: {e}\")\n",
    "                reasoning = \"N/A\"\n",
    "\n",
    "            new_dialogue.append({\n",
    "                \"patient\": patient,\n",
    "                \"reasoning\": reasoning,\n",
    "                \"therapist\": therapist\n",
    "            })\n",
    "\n",
    "        output_data.append({\n",
    "            \"identity\": identity,\n",
    "            \"dialogue\": new_dialogue\n",
    "        })\n"
   ]
  },
  {
   "cell_type": "code",
   "execution_count": 13,
   "metadata": {
    "ExecuteTime": {
     "end_time": "2025-04-25T22:57:37.019477Z",
     "start_time": "2025-04-25T22:57:36.793301Z"
    }
   },
   "outputs": [
    {
     "name": "stdout",
     "output_type": "stream",
     "text": [
      "✅ Saved 1500 conversations with CoT to grouped_conversations_with_cot_final.jsonl\n"
     ]
    }
   ],
   "source": [
    "# Save output\n",
    "with open(output_file, \"w\", encoding=\"utf-8\") as f_out:\n",
    "    for entry in output_data:\n",
    "        json.dump(entry, f_out)\n",
    "        f_out.write(\"\\n\")\n",
    "\n",
    "print(f\"✅ Saved {len(output_data)} conversations with CoT to {output_file}\")"
   ]
  },
  {
   "cell_type": "code",
   "execution_count": 1,
   "metadata": {
    "ExecuteTime": {
     "end_time": "2025-05-02T13:03:24.692723Z",
     "start_time": "2025-05-02T13:03:24.685205Z"
    }
   },
   "outputs": [
    {
     "name": "stdout",
     "output_type": "stream",
     "text": [
      "\n",
      "Therapist Chatbot (type 'quit' to exit)\n",
      "\n",
      "Patient: Hi, I'm feeling very down today. I feel a lot of stress for exam and the deadlines.\n",
      "\n",
      "(Thinking...)\n",
      "Therapist Thought Process: I need to create a safe space for Charlie to express his feelings and concerns about his workload and deadlines. It's important to encourage him to elaborate on the specific stressors so I can better understand his situation and provide appropriate support.\n",
      "\n",
      "Therapist: Hi Charlie, I'm sorry to hear that you're feeling down. It sounds like you're going through a tough time. Can you tell me more about what specifically is causing you stress?\n",
      "\n",
      "Patient: Yes, there is a lot of deadlines nearby and my work is not done as I procrastinated a lot.\n",
      "\n",
      "(Thinking...)\n",
      "Therapist Thought Process: \n",
      "\n",
      "Therapist: I need to validate Charlie's feelings of stress and ensure he feels heard and understood. I should also encourage him to share specific situations or specific challenges he's facing that contribute to his workload.\n",
      "\n"
     ]
    }
   ],
   "source": [
    "print(\"\"\"\n",
    "Therapist Chatbot (type 'quit' to exit)\n",
    "\n",
    "Patient: Hi, I'm feeling very down today. I feel a lot of stress for exam and the deadlines.\n",
    "\n",
    "(Thinking...)\n",
    "Therapist Thought Process: I need to create a safe space for Charlie to express his feelings and concerns about his workload and deadlines. It's important to encourage him to elaborate on the specific stressors so I can better understand his situation and provide appropriate support.\n",
    "\n",
    "Therapist: Hi Charlie, I'm sorry to hear that you're feeling down. It sounds like you're going through a tough time. Can you tell me more about what specifically is causing you stress?\n",
    "\n",
    "Patient: Yes, there is a lot of deadlines nearby and my work is not done as I procrastinated a lot.\n",
    "\n",
    "(Thinking...)\n",
    "Therapist Thought Process: \n",
    "\n",
    "Therapist: I need to validate Charlie's feelings of stress and ensure he feels heard and understood. I should also encourage him to share specific situations or specific challenges he's facing that contribute to his workload.\n",
    "\"\"\")"
   ]
  }
 ],
 "metadata": {
  "kernelspec": {
   "display_name": "base",
   "language": "python",
   "name": "python3"
  },
  "language_info": {
   "codemirror_mode": {
    "name": "ipython",
    "version": 3
   },
   "file_extension": ".py",
   "mimetype": "text/x-python",
   "name": "python",
   "nbconvert_exporter": "python",
   "pygments_lexer": "ipython3",
   "version": "3.12.7"
  }
 },
 "nbformat": 4,
 "nbformat_minor": 2
}
